{
 "cells": [
  {
   "cell_type": "markdown",
   "metadata": {},
   "source": [
    "<img src=\"https://bit.ly/2VnXWr2\" width=\"100\" align=\"left\">"
   ]
  },
  {
   "cell_type": "markdown",
   "metadata": {},
   "source": [
    "# Rock, Paper & Scissors\n",
    "\n",
    "Let's play the famous game against our computer. You can check the rules [here](https://en.wikipedia.org/wiki/Rock%E2%80%93paper%E2%80%93scissors). \n",
    "\n",
    "## Task\n",
    "Create a program that imitates the playability of the well known game of rock, paper, scissors. Follow the guidelines provided.\n",
    "\n",
    "## Tools\n",
    "1. Loop: **for/while**\n",
    "2. Functions: **input(), print()...**\n",
    "3. Conditional statements: **if, elif, else**\n",
    "4. Definition of functions. Modular programming\n",
    "5. Import modules\n",
    "\n",
    "**To solve this challenge, the use of functions is recommended.**\n",
    "\n",
    "#### 1. Import the choice function of the random module."
   ]
  },
  {
   "cell_type": "code",
   "execution_count": 1,
   "metadata": {},
   "outputs": [],
   "source": [
    "import  random\n"
   ]
  },
  {
   "cell_type": "markdown",
   "metadata": {},
   "source": [
    "#### 2. Create a list that includes the 3 possible gesture options of the game: 'rock', 'paper' or 'scissors'. Store the list in a variable called `gestures`."
   ]
  },
  {
   "cell_type": "code",
   "execution_count": 2,
   "metadata": {},
   "outputs": [],
   "source": [
    "gestures = ['rock', 'paper', 'scissors']"
   ]
  },
  {
   "cell_type": "markdown",
   "metadata": {},
   "source": [
    "#### 3. Create a variable called `n_rounds` to store the maximum number of rounds to play in a game. \n",
    "Remember that the number of rounds must be odd: 1, 3, 5, ..."
   ]
  },
  {
   "cell_type": "code",
   "execution_count": 3,
   "metadata": {},
   "outputs": [],
   "source": [
    "n_rounds = 9"
   ]
  },
  {
   "cell_type": "markdown",
   "metadata": {},
   "source": [
    "#### 4. Create a variable called `rounds_to_win` to store the number of rounds that a player must win to win the game.\n",
    "**Hint**: the value stored in `rounds_to_win` depends on the value of `n_rounds`. "
   ]
  },
  {
   "cell_type": "code",
   "execution_count": 4,
   "metadata": {},
   "outputs": [],
   "source": [
    "rounds_to_win = n_rounds/2"
   ]
  },
  {
   "cell_type": "markdown",
   "metadata": {},
   "source": [
    "#### 5. Create two variables to store the number of rounds that the computer and the player have won. Call these variables `cpu_score` and `player_score`."
   ]
  },
  {
   "cell_type": "code",
   "execution_count": 5,
   "metadata": {},
   "outputs": [],
   "source": [
    "cpu_score = 0\n",
    "player_score = 0\n",
    "#also for later\n",
    "computer_moves = []\n",
    "player_moves = []"
   ]
  },
  {
   "cell_type": "markdown",
   "metadata": {},
   "source": [
    "#### 6. Define a function that randomly returns one of the 3 gesture options.\n",
    "You will use this function to simulate the gesture choice of the computer. "
   ]
  },
  {
   "cell_type": "code",
   "execution_count": 6,
   "metadata": {},
   "outputs": [
    {
     "name": "stdout",
     "output_type": "stream",
     "text": [
      "['scissors', 'scissors', 'scissors', 'rock', 'paper', 'scissors', 'paper', 'scissors', 'scissors']\n"
     ]
    }
   ],
   "source": [
    "def computer_move():\n",
    "    \n",
    "    #maybe not do it in a loop?\n",
    "    for round in range(n_rounds):\n",
    "        computer = random.choice(gestures)\n",
    "        computer_moves.append(computer)\n",
    "    print(computer_moves)\n",
    "    # return computer_moves if you dont want it printed so that the player doesn't know in advance.\n",
    "computer_move()        "
   ]
  },
  {
   "cell_type": "markdown",
   "metadata": {},
   "source": [
    "#### 7. Define a function that asks the player which is the gesture he or she wants to show: 'rock', 'paper' or 'scissors'.\n",
    "The player should only be allowed to choose one of the 3 gesture options. If the player's choice is not rock, paper or scissors, keep asking until it is."
   ]
  },
  {
   "cell_type": "code",
   "execution_count": 7,
   "metadata": {},
   "outputs": [
    {
     "name": "stdout",
     "output_type": "stream",
     "text": [
      "Please select a move from gestures: paper, rock , scissors ==> rock\n",
      "Please select a move from gestures: paper, rock , scissors ==> scissors\n",
      "Please select a move from gestures: paper, rock , scissors ==> paper\n",
      "Please select a move from gestures: paper, rock , scissors ==> move\n",
      "Option not available\n",
      "Please select a move from gestures: paper, rock , scissors ==> rock\n",
      "Please select a move from gestures: paper, rock , scissors ==> paper\n",
      "Please select a move from gestures: paper, rock , scissors ==> paper\n",
      "Please select a move from gestures: paper, rock , scissors ==> scissors\n",
      "Please select a move from gestures: paper, rock , scissors ==> scissors\n",
      "Please select a move from gestures: paper, rock , scissors ==> rock\n",
      "Thank you for playing\n",
      "['rock', 'scissors', 'paper', 'rock', 'paper', 'paper', 'scissors', 'scissors', 'rock']\n"
     ]
    }
   ],
   "source": [
    "gestures = ['paper','rock','scissors']\n",
    "def player_move():\n",
    "    for i in range(n_rounds):\n",
    "        while True:\n",
    "            player = input('Please select a move from gestures: paper, rock , scissors ==> ')\n",
    "            if player in gestures:\n",
    "                player_moves.append(player)\n",
    "                break\n",
    "            else :\n",
    "                print('Option not available')\n",
    "                continue\n",
    "    print('Thank you for playing')\n",
    "    print(player_moves) \n",
    "\n",
    "player_move()\n"
   ]
  },
  {
   "cell_type": "markdown",
   "metadata": {},
   "source": [
    "#### 8. Define a function that checks who won a round. \n",
    "The function should return 0 if there is a tie, 1 if the computer wins and 2 if the player wins."
   ]
  },
  {
   "cell_type": "code",
   "execution_count": 8,
   "metadata": {},
   "outputs": [
    {
     "name": "stdout",
     "output_type": "stream",
     "text": [
      " Human Player wins and result = 2!\n"
     ]
    }
   ],
   "source": [
    "def who_won():\n",
    "  #for i in range(n_rounds):\n",
    "    if player_moves[0] == computer_moves[0]:\n",
    "        result = 0\n",
    "        print(f' It is a tie and result = {result}')\n",
    "    elif player_moves[0] == 'paper' and computer_moves[0] == 'rock':\n",
    "        result = 2\n",
    "        print(f' Human Player wins! and result = {result}')\n",
    "    elif player_moves[0] == 'paper' and computer_moves[0] == 'scissors':\n",
    "        result = 1\n",
    "        print (f'The machine wins and result = {result}')\n",
    "    elif player_moves[0] == 'rock' and computer_moves[0] == 'paper':\n",
    "        result = 1\n",
    "        print (f'The machine wins and result = {result}')\n",
    "    elif player_moves[0] == 'rock' and computer_moves[0] == 'scissors':\n",
    "        result = 2\n",
    "        print(f' Human Player wins and result = {result}!')\n",
    "    elif player_moves[0] == 'scissors' and computer_moves[0] == 'rock':\n",
    "        result = 1\n",
    "        print (f'The machine wins and result = {result}')\n",
    "    else:\n",
    "        result = 2\n",
    "        print(f' Human Player wins and result = {result}!')\n",
    "who_won()   \n",
    "    \n"
   ]
  },
  {
   "cell_type": "markdown",
   "metadata": {},
   "source": [
    "#### 9. Define a function that prints the choice of the computer, the choice of the player and a message that announces who won the current round. \n",
    "You should also use this function to update the variables that count the number of rounds that the computer and the player have won. The score of the winner increases by one point. If there is a tie, the score does not increase."
   ]
  },
  {
   "cell_type": "code",
   "execution_count": 9,
   "metadata": {},
   "outputs": [
    {
     "name": "stdout",
     "output_type": "stream",
     "text": [
      "Player: rock\n",
      "Computer: scissors\n",
      " The human wins round 0 with a score of 1\n",
      "Player: scissors\n",
      "Computer: scissors\n",
      "Round 1 is a tie, no points are given\n",
      "Player: paper\n",
      "Computer: scissors\n",
      "The machine wins round 2 with a score of 1\n",
      "Player: rock\n",
      "Computer: rock\n",
      "Round 3 is a tie, no points are given\n",
      "Player: paper\n",
      "Computer: paper\n",
      "Round 4 is a tie, no points are given\n",
      "Player: paper\n",
      "Computer: scissors\n",
      "The machine wins round 5 with a score of 2\n",
      "Player: scissors\n",
      "Computer: paper\n",
      " The human wins round 6 with a score of 2\n",
      "Player: scissors\n",
      "Computer: scissors\n",
      "Round 7 is a tie, no points are given\n",
      "Player: rock\n",
      "Computer: scissors\n",
      " The human wins round 8 with a score of 3\n",
      "Player's final score is: 3\n",
      "Machine's finale score is : 2\n",
      "Nobody got enough points, it's a tie\n"
     ]
    }
   ],
   "source": [
    "def who_wonV2():\n",
    "    #defining variables\n",
    "    cpu_score = 0\n",
    "    player_score = 0\n",
    "    rounds_to_win = n_rounds/2\n",
    "    #looping through the rounds and printing the choices\n",
    "    for i in range(n_rounds):\n",
    "     \n",
    "        print(f'Player: {player_moves[i]}')\n",
    "        print(f'Computer: {computer_moves[i]}')\n",
    "        \n",
    "        #actual game\n",
    "        if player_moves[i] == computer_moves[i]:\n",
    "            print(f'Round {i} is a tie, no points are given')\n",
    "        elif player_moves[i] == 'paper' and computer_moves[i] == 'rock':\n",
    "            player_score += 1\n",
    "            print(f' The human wins round {i} with a score of {player_score}')\n",
    "        elif player_moves[i] == 'paper' and computer_moves[i] == 'scissors':\n",
    "            cpu_score += 1\n",
    "            print (f'The machine wins round {i} with a score of {cpu_score}')\n",
    "        elif player_moves[i] == 'rock' and computer_moves[i] == 'paper':\n",
    "            cpu_score += 1\n",
    "            print (f'The machine wins round {i} with a score of {cpu_score}')\n",
    "        elif player_moves[i] == 'rock' and computer_moves[i] == 'scissors':\n",
    "            player_score += 1\n",
    "            print(f' The human wins round {i} with a score of {player_score}')\n",
    "        elif player_moves[i] == 'scissors' and computer_moves[i] == 'rock':\n",
    "            cpu_score += 1\n",
    "            print (f'The machine wins round {i} with a score of {cpu_score}')\n",
    "        else:\n",
    "            player_score += 1\n",
    "            print(f' The human wins round {i} with a score of {player_score}')\n",
    "    #presenting the results\n",
    "    print(f'Player\\'s final score is: {player_score}')\n",
    "    print(f'Machine\\'s finale score is : {cpu_score}')\n",
    "    #conditions to win the game\n",
    "    if player_score < cpu_score and cpu_score >= rounds_to_win:\n",
    "        print(f'The machine wins with {cpu_score} over the {player_score} of the player!')\n",
    "    elif player_score > cpu_score and player_score >= rounds_to_win:\n",
    "         print(f'The human wins with {player_score} over the {cpu_score} of the machine!')     \n",
    "    else:\n",
    "         print('Nobody got enough points, it\\'s a tie')\n",
    "\n",
    "who_wonV2()\n",
    "#I ussed the condition that any player had to win at least 5 rounds to win the game"
   ]
  },
  {
   "cell_type": "markdown",
   "metadata": {},
   "source": [
    "#### 10. Now it's time to code the execution of the game using the functions and variables you defined above. \n",
    "\n",
    "First, create a loop structure that repeats while no player reaches the minimum score necessary to win and the number of rounds is less than the maximum number of rounds to play in a game.  \n",
    "\n",
    "Inside the loop, use the functions and variables above to create the execution of a round: ask for the player's choice, generate the random choice of the computer, show the round results, update the scores, etc. "
   ]
  },
  {
   "cell_type": "markdown",
   "metadata": {},
   "source": [
    "#### 11. Print the winner of the game based on who won more rounds.\n",
    "Remember that the game might be tied. "
   ]
  },
  {
   "cell_type": "code",
   "execution_count": 10,
   "metadata": {},
   "outputs": [
    {
     "name": "stdout",
     "output_type": "stream",
     "text": [
      "Please select a move from gestures: paper, rock , scissors ==> rock\n",
      "Thank you for playing\n",
      "Player: rock\n",
      "Computer: paper\n",
      "The machine wins round 0 with a score of: 1\n",
      "Please select a move from gestures: paper, rock , scissors ==> paper\n",
      "Thank you for playing\n",
      "Player: paper\n",
      "Computer: scissors\n",
      "The machine wins round 1 with a score of: 2\n",
      "Please select a move from gestures: paper, rock , scissors ==> scissors\n",
      "Thank you for playing\n",
      "Player: scissors\n",
      "Computer: rock\n",
      "The machine wins round 2 with a score of: 3\n",
      "Please select a move from gestures: paper, rock , scissors ==> rock\n",
      "Thank you for playing\n",
      "Player: rock\n",
      "Computer: rock\n",
      "Round 3 is a tie and no points are given\n",
      "Please select a move from gestures: paper, rock , scissors ==> rock\n",
      "Thank you for playing\n",
      "Player: rock\n",
      "Computer: rock\n",
      "Round 4 is a tie and no points are given\n",
      "Please select a move from gestures: paper, rock , scissors ==> paper\n",
      "Thank you for playing\n",
      "Player: paper\n",
      "Computer: rock\n",
      "The human wins round 5 with a score of: 1\n",
      "Please select a move from gestures: paper, rock , scissors ==> scissors\n",
      "Thank you for playing\n",
      "Player: scissors\n",
      "Computer: scissors\n",
      "Round 6 is a tie and no points are given\n",
      "Please select a move from gestures: paper, rock , scissors ==> paper\n",
      "Thank you for playing\n",
      "Player: paper\n",
      "Computer: rock\n",
      "The human wins round 7 with a score of: 2\n",
      "Please select a move from gestures: paper, rock , scissors ==> rock\n",
      "Thank you for playing\n",
      "Player: rock\n",
      "Computer: paper\n",
      "The machine wins round 8 with a score of: 4\n",
      " Player's scroe is: 2\n",
      " Computer's score is: 4\n",
      "Nobody got enough points, it's a tie\n"
     ]
    }
   ],
   "source": [
    "def who_wonV3():\n",
    "    #defining the variables\n",
    "    cpu_score = 0\n",
    "    player_score = 0\n",
    "    n_rounds = 9\n",
    "    rounds = 0\n",
    "    rounds_to_win = n_rounds/2\n",
    "    player_moves = []\n",
    "    computer_moves = []\n",
    "    #conditions for the loop\n",
    "    while cpu_score < rounds_to_win and player_score < rounds_to_win and rounds < n_rounds:\n",
    "        for i in range(n_rounds):\n",
    "            rounds += 1\n",
    "            #computer choice in each round\n",
    "            computer = random.choice(gestures)\n",
    "            computer_moves.append(computer)    \n",
    "            \n",
    "            #player choice in each round\n",
    "            while True:\n",
    "                player = input('Please select a move from gestures: paper, rock , scissors ==> ')\n",
    "                if player in gestures:\n",
    "                    player_moves.append(player)\n",
    "                    break\n",
    "                else :\n",
    "                    print('Option not available')\n",
    "                    continue\n",
    "            print('Thank you for playing')\n",
    "            \n",
    "            #printing their chocies for the round\n",
    "            print(f'Player: {player_moves[i]}')\n",
    "            print(f'Computer: {computer_moves[i]}')\n",
    "            #actual game\n",
    "            if player_moves[i] == computer_moves[i]:\n",
    "                print(f'Round {i} is a tie and no points are given')\n",
    "            elif player_moves[i] == 'paper' and computer_moves[i] == 'rock':\n",
    "                player_score += 1\n",
    "                print(f'The human wins round {i} with a score of: {player_score}')\n",
    "            elif player_moves[i] == 'paper' and computer_moves[i] == 'scissors':\n",
    "                cpu_score += 1\n",
    "                print (f'The machine wins round {i} with a score of: {cpu_score}')\n",
    "            elif player_moves[i] == 'rock' and computer_moves[i] == 'paper':\n",
    "                cpu_score += 1\n",
    "                print (f'The machine wins round {i} with a score of: {cpu_score}')\n",
    "            elif player_moves[i] == 'rock' and computer_moves[i] == 'scissors':\n",
    "                player_score += 1\n",
    "                print(f'The human wins round {i} with a score of: {player_score}')\n",
    "            elif player_moves[i] == 'scissors' and computer_moves[i] == 'rock':\n",
    "                cpu_score += 1\n",
    "                print (f'The machine wins round {i} with a score of: {cpu_score}')\n",
    "            else:\n",
    "                player_score += 1\n",
    "                print(f'The human wins round {i} with a score of: {player_score}')\n",
    "        #printing results        \n",
    "        print(f' Player\\'s scroe is: {player_score}')\n",
    "        print(f' Computer\\'s score is: {cpu_score}')\n",
    "        #conditions to win the game\n",
    "    if player_score < cpu_score and cpu_score >= rounds_to_win:\n",
    "        print(f'The machine wins with {cpu_score} over the {player_score} of the player!')\n",
    "    elif player_score > cpu_score and player_score >= rounds_to_win:\n",
    "         print(f'The human wins with {player_score} over the {cpu_score} of the machine!')     \n",
    "    else:\n",
    "         print('Nobody got enough points, it\\'s a tie')\n",
    "\n",
    "who_wonV3()"
   ]
  },
  {
   "cell_type": "code",
   "execution_count": null,
   "metadata": {},
   "outputs": [],
   "source": []
  },
  {
   "cell_type": "markdown",
   "metadata": {},
   "source": [
    "# Bonus: Rock, Paper, Scissors, Lizard & Spock\n",
    "![](images/rpsls.jpg)\n",
    "\n",
    "In this challenge, you need to improve the previous game by adding two new options. To know more about the rules of the improved version of rock, paper, scissors, check this [link](http://www.samkass.com/theories/RPSSL.html). \n",
    "\n",
    "In addition, you will also need to improve how the game interacts with the player: the number of rounds to play, which must be an odd number, will be requested to the user until a valid number is entered. Define a new function to make that request.\n",
    "\n",
    "**Hint**: Try to reuse the code that you already coded in the previous challenge. If your code is efficient, this bonus will only consist of simple modifications to the original game."
   ]
  },
  {
   "cell_type": "code",
   "execution_count": 12,
   "metadata": {},
   "outputs": [
    {
     "name": "stdout",
     "output_type": "stream",
     "text": [
      "Please enter the number of rounds you wish to play (odd numbers only): 7\n",
      "Please select a move from gestures: paper, rock , scissors, lizard, spock ==> lizard\n",
      "Thank you for playing\n",
      "Player: lizard\n",
      "Computer: lizard\n",
      "Round 0 is a tie and nobody gets a point\n",
      "Please select a move from gestures: paper, rock , scissors, lizard, spock ==> spock\n",
      "Thank you for playing\n",
      "Player: spock\n",
      "Computer: scissors\n",
      "The human wins round 1 with a score of: 1\n",
      "Please select a move from gestures: paper, rock , scissors, lizard, spock ==> rock\n",
      "Thank you for playing\n",
      "Player: rock\n",
      "Computer: lizard\n",
      "The human wins round 2 with a score of: 2\n",
      "Please select a move from gestures: paper, rock , scissors, lizard, spock ==> rock\n",
      "Thank you for playing\n",
      "Player: rock\n",
      "Computer: rock\n",
      "Round 3 is a tie and nobody gets a point\n",
      "Please select a move from gestures: paper, rock , scissors, lizard, spock ==> paper\n",
      "Thank you for playing\n",
      "Player: paper\n",
      "Computer: paper\n",
      "Round 4 is a tie and nobody gets a point\n",
      "Please select a move from gestures: paper, rock , scissors, lizard, spock ==> paper\n",
      "Thank you for playing\n",
      "Player: paper\n",
      "Computer: scissors\n",
      "The machine wins round 5 with a score of: 1\n",
      "Please select a move from gestures: paper, rock , scissors, lizard, spock ==> scissors\n",
      "Thank you for playing\n",
      "Player: scissors\n",
      "Computer: scissors\n",
      "Round 6 is a tie and nobody gets a point\n",
      " Player's scroe is: 2\n",
      " Computer's score is: 1\n",
      "Nobody got enough points, it's a tie\n"
     ]
    }
   ],
   "source": [
    "def who_wonLS():\n",
    "    #define variables\n",
    "    cpu_score = 0\n",
    "    player_score = 0\n",
    "    rounds = 0\n",
    "    player_moves = []\n",
    "    computer_moves = []\n",
    "    gestures = ['paper','rock','scissors','lizard','spock']\n",
    "   \n",
    " #asking the player for the number of rounds\n",
    "    while True:\n",
    "        try:\n",
    "            n_rounds = int(input('Please enter the number of rounds you wish to play (odd numbers only): '))\n",
    "            if n_rounds % 2 != 0:\n",
    "                break\n",
    "            else:\n",
    "                continue\n",
    "        except ValueError:\n",
    "            print('\\nYou did not enter a valid number')\n",
    "\n",
    "        else:\n",
    "            break\n",
    "    \n",
    "    rounds_to_win=n_rounds/2\n",
    "            \n",
    "    while cpu_score < rounds_to_win and player_score < rounds_to_win and rounds < n_rounds:\n",
    "        for i in range(n_rounds):\n",
    "            rounds += 1\n",
    "            #computer choice in each round\n",
    "            computer = random.choice(gestures)\n",
    "            computer_moves.append(computer)    \n",
    "            \n",
    "            #player choice in each round\n",
    "            while True:\n",
    "                player = input('Please select a move from gestures: paper, rock , scissors, lizard, spock ==> ')\n",
    "                if player in gestures:\n",
    "                    player_moves.append(player)\n",
    "                    break\n",
    "                else :\n",
    "                    print('Option not available')\n",
    "                    continue\n",
    "            print('Thank you for playing')\n",
    "            \n",
    "            print(f'Player: {player_moves[i]}')\n",
    "            print(f'Computer: {computer_moves[i]}')\n",
    "    \n",
    "            if player_moves[i] == computer_moves[i]:\n",
    "                print(f'Round {i} is a tie and nobody gets a point')\n",
    "            elif player_moves[i] == 'paper' and computer_moves[i] == 'rock':\n",
    "                player_score += 1\n",
    "                print(f'The human wins round {i} with a score of: {player_score}')\n",
    "            elif player_moves[i] == 'paper' and computer_moves[i] == 'scissors':\n",
    "                cpu_score += 1\n",
    "                print (f'The machine wins round {i} with a score of: {cpu_score}')\n",
    "            elif player_moves[i] == 'paper'and computer_moves[i] == 'lizard':\n",
    "                cpu_score += 1\n",
    "                print (f'The machine wins round {i} with a score of: {cpu_score}')\n",
    "            elif player_moves[i] == 'paper'and computer_moves[i] == 'spock':\n",
    "                player_score += 1\n",
    "                print(f'The human wins round {i} with a score of: {player_score}')\n",
    "            elif player_moves[i] == 'rock' and computer_moves[i] == 'paper':\n",
    "                cpu_score += 1\n",
    "                print (f'The machine wins round {i} with a score of: {cpu_score}')\n",
    "            elif player_moves[i] == 'rock' and computer_moves[i] == 'scissors':\n",
    "                player_score += 1\n",
    "                print(f'The human wins round {i} with a score of: {player_score}')\n",
    "            elif player_moves[i] == 'rock' and computer_moves[i] == 'lizard':\n",
    "                player_score += 1\n",
    "                print(f'The human wins round {i} with a score of: {player_score}')\n",
    "            elif player_moves[i] == 'rock' and computer_moves[i] == 'spock':\n",
    "                cpu_score += 1\n",
    "                print (f'The machine wins round {i} with a score of: {cpu_score}')\n",
    "            elif player_moves[i] == 'scissors' and computer_moves[i] == 'rock':\n",
    "                cpu_score += 1\n",
    "                print (f'The machine wins round {i} with a score of: {cpu_score}')\n",
    "            elif player_moves[i] == 'scissors' and computer_moves[i] == 'lizard':\n",
    "                player_score += 1\n",
    "                print(f'The human wins round {i} with a score of: {player_score}')\n",
    "            elif player_moves[i] == 'scissors' and computer_moves[i] == 'spock':\n",
    "                cpu_score += 1\n",
    "                print (f'The machine wins round {i} with a score of: {cpu_score}')\n",
    "            elif player_moves[i] == 'scissors' and computer_moves[i] == 'paper':\n",
    "                player_score += 1\n",
    "                print(f'The human wins round {i} with a score of: {player_score}')\n",
    "            elif player_moves[i] == 'lizard' and computer_moves[i] == 'rock':\n",
    "                cpu_score += 1\n",
    "                print (f'The machine wins round {i} with a score of: {cpu_score}')\n",
    "            elif player_moves[i] == 'lizard' and computer_moves[i] == 'paper':\n",
    "                player_score += 1\n",
    "                print(f'The human wins round {i} with a score of: {player_score}')\n",
    "            elif player_moves[i] == 'lizard' and compuer_moves[i] == 'scissors':\n",
    "                cpu_score += 1\n",
    "                print (f'The machine wins round {i} with a score of: {cpu_score}')\n",
    "            elif player_moves[i] == 'lizard' and computer_moves[i] == 'spock':\n",
    "                player_score += 1\n",
    "                print(f'The human wins round {i} with a score of: {player_score}')\n",
    "            elif player_moves[i] == 'spock' and computer_moves[i] == 'rock':\n",
    "                player_score += 1\n",
    "                print(f'The human wins round {i} with a score of: {player_score}')\n",
    "            elif player_moves[i] == 'spock' and computer_moves[i] == 'paper':\n",
    "                cpu_score += 1\n",
    "                print (f'The machine wins round {i} with a score of: {cpu_score}')\n",
    "            elif player_moves[i] == 'spock' and computer_moves[i] == 'scissors':\n",
    "                player_score += 1\n",
    "                print(f'The human wins round {i} with a score of: {player_score}')\n",
    "            else:\n",
    "                cpu_score += 1\n",
    "                print (f'The machine wins round {i} with a score of: {cpu_score}')\n",
    "\n",
    "                \n",
    "        print(f' Player\\'s scroe is: {player_score}')\n",
    "        print(f' Computer\\'s score is: {cpu_score}')\n",
    "    if player_score < cpu_score and cpu_score >= rounds_to_win:\n",
    "        print(f'The machine wins with {cpu_score} over the {player_score} of the player!')\n",
    "    elif player_score > cpu_score and player_score >= rounds_to_win:\n",
    "         print(f'The human wins with {player_score} over the {cpu_score} of the machine!')     \n",
    "    else:\n",
    "         print('Nobody got enough points, it\\'s a tie')\n",
    "\n",
    "who_wonLS()"
   ]
  },
  {
   "cell_type": "code",
   "execution_count": null,
   "metadata": {},
   "outputs": [],
   "source": []
  },
  {
   "cell_type": "code",
   "execution_count": null,
   "metadata": {},
   "outputs": [],
   "source": []
  }
 ],
 "metadata": {
  "kernelspec": {
   "display_name": "Python 3",
   "language": "python",
   "name": "python3"
  },
  "language_info": {
   "codemirror_mode": {
    "name": "ipython",
    "version": 3
   },
   "file_extension": ".py",
   "mimetype": "text/x-python",
   "name": "python",
   "nbconvert_exporter": "python",
   "pygments_lexer": "ipython3",
   "version": "3.7.6"
  }
 },
 "nbformat": 4,
 "nbformat_minor": 2
}
